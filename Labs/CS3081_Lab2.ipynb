"""
In this lab we will continue to implement the Romanian problem using uninformed search algorithms, we will continue on Lab 1 to add Nodes for the cities in Romania and edges (arcs) for connected cities. Then search for a path from Arad to Bucharist
You can complete your own code or Use the attached code, to complete the lab
- add more children based on the Romanian graph
- apply the DFS and BFS using the TreeNode DS
"""
