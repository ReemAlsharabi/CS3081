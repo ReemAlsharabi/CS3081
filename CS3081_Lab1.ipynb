{
  "nbformat": 4,
  "nbformat_minor": 0,
  "metadata": {
    "colab": {
      "provenance": [],
      "include_colab_link": true
    },
    "kernelspec": {
      "name": "python3",
      "display_name": "Python 3"
    },
    "language_info": {
      "name": "python"
    }
  },
  "cells": [
    {
      "cell_type": "markdown",
      "metadata": {
        "id": "view-in-github",
        "colab_type": "text"
      },
      "source": [
        "<a href=\"https://colab.research.google.com/github/ReemAlsharabi/CS3081/blob/main/CS3081_Lab1.ipynb\" target=\"_parent\"><img src=\"https://colab.research.google.com/assets/colab-badge.svg\" alt=\"Open In Colab\"/></a>"
      ]
    },
    {
      "cell_type": "code",
      "source": [
        "\"\"\"\n",
        "Lab uniformed search code\n",
        "1- Find a link for uninformed search algorithms code to use\n",
        "sample code ( https://github.com/chitholian/AI-Search-Algorithms)\n",
        "    -> Submit the link and the code file\n",
        "2- Apply the Romania problem (graph in ppt ) and find a solution to reach goal\n",
        "     -> \n",
        "3- apply BFS, DFS, and  Iterative deepening\n",
        "4- add a way to visualize the iterations and the nodes that are checked.\n",
        "   -> submit screenshots of the run\n",
        "\"\"\""
      ],
      "metadata": {
        "id": "OwN1jUEQ3cBm",
        "outputId": "fb4284dc-6e98-4273-fcb4-c4982c92289d",
        "colab": {
          "base_uri": "https://localhost:8080/",
          "height": 72
        }
      },
      "execution_count": null,
      "outputs": [
        {
          "output_type": "execute_result",
          "data": {
            "text/plain": [
              "'\\nLab uniformed search code\\n1- Find a link for uninformed search algorithms code to use\\nsample code ( https://github.com/chitholian/AI-Search-Algorithms)\\n    -> Submit the link and the code file\\n2- Apply the Romania problem (graph in ppt ) and find a solution to reach goal\\n     -> \\n3- apply BFS, DFS, and  Iterative deepening\\n4- add a way to visualize the iterations and the nodes that are checked.\\n   -> submit screenshots of the run\\n'"
            ],
            "application/vnd.google.colaboratory.intrinsic+json": {
              "type": "string"
            }
          },
          "metadata": {},
          "execution_count": 39
        },
        {
          "output_type": "stream",
          "name": "stdout",
          "text": [
            "time: 4.58 ms (started: 2023-02-02 23:04:05 +00:00)\n"
          ]
        }
      ]
    },
    {
      "cell_type": "code",
      "source": [
        "!pip install ipython-autotime\n",
        "%load_ext autotime"
      ],
      "metadata": {
        "colab": {
          "base_uri": "https://localhost:8080/"
        },
        "id": "uTMAoxY3Ujw7",
        "outputId": "c8a3b7d7-ee12-4fbb-83e6-ce2455e5d933"
      },
      "execution_count": null,
      "outputs": [
        {
          "output_type": "stream",
          "name": "stdout",
          "text": [
            "Looking in indexes: https://pypi.org/simple, https://us-python.pkg.dev/colab-wheels/public/simple/\n",
            "Requirement already satisfied: ipython-autotime in /usr/local/lib/python3.8/dist-packages (0.3.1)\n",
            "Requirement already satisfied: ipython in /usr/local/lib/python3.8/dist-packages (from ipython-autotime) (7.9.0)\n",
            "Requirement already satisfied: decorator in /usr/local/lib/python3.8/dist-packages (from ipython->ipython-autotime) (4.4.2)\n",
            "Requirement already satisfied: pickleshare in /usr/local/lib/python3.8/dist-packages (from ipython->ipython-autotime) (0.7.5)\n",
            "Requirement already satisfied: pexpect in /usr/local/lib/python3.8/dist-packages (from ipython->ipython-autotime) (4.8.0)\n",
            "Requirement already satisfied: prompt-toolkit<2.1.0,>=2.0.0 in /usr/local/lib/python3.8/dist-packages (from ipython->ipython-autotime) (2.0.10)\n",
            "Requirement already satisfied: setuptools>=18.5 in /usr/local/lib/python3.8/dist-packages (from ipython->ipython-autotime) (57.4.0)\n",
            "Requirement already satisfied: pygments in /usr/local/lib/python3.8/dist-packages (from ipython->ipython-autotime) (2.6.1)\n",
            "Requirement already satisfied: backcall in /usr/local/lib/python3.8/dist-packages (from ipython->ipython-autotime) (0.2.0)\n",
            "Requirement already satisfied: jedi>=0.10 in /usr/local/lib/python3.8/dist-packages (from ipython->ipython-autotime) (0.18.2)\n",
            "Requirement already satisfied: traitlets>=4.2 in /usr/local/lib/python3.8/dist-packages (from ipython->ipython-autotime) (5.7.1)\n",
            "Requirement already satisfied: parso<0.9.0,>=0.8.0 in /usr/local/lib/python3.8/dist-packages (from jedi>=0.10->ipython->ipython-autotime) (0.8.3)\n",
            "Requirement already satisfied: six>=1.9.0 in /usr/local/lib/python3.8/dist-packages (from prompt-toolkit<2.1.0,>=2.0.0->ipython->ipython-autotime) (1.15.0)\n",
            "Requirement already satisfied: wcwidth in /usr/local/lib/python3.8/dist-packages (from prompt-toolkit<2.1.0,>=2.0.0->ipython->ipython-autotime) (0.2.6)\n",
            "Requirement already satisfied: ptyprocess>=0.5 in /usr/local/lib/python3.8/dist-packages (from pexpect->ipython->ipython-autotime) (0.7.0)\n",
            "The autotime extension is already loaded. To reload it, use:\n",
            "  %reload_ext autotime\n",
            "time: 4.14 s (started: 2023-02-02 22:50:34 +00:00)\n"
          ]
        }
      ]
    },
    {
      "cell_type": "code",
      "execution_count": null,
      "metadata": {
        "id": "AHsQOoaVMNV7",
        "colab": {
          "base_uri": "https://localhost:8080/"
        },
        "outputId": "60807c43-e9ca-4e50-815a-b8da20277571"
      },
      "outputs": [
        {
          "output_type": "stream",
          "name": "stdout",
          "text": [
            "time: 3.95 ms (started: 2023-02-02 23:04:10 +00:00)\n"
          ]
        }
      ],
      "source": [
        "from queue import Queue, deque"
      ]
    },
    {
      "cell_type": "code",
      "source": [
        "graph = {\n",
        "    'Arad': {'Sibiu', 'Timisoara', 'Zerind'},\n",
        "    'Zerind': {'Arad', 'Oradea'},\n",
        "    'Oradea': {'Zerind', 'Sibiu'},\n",
        "    'Sibiu': {'Arad', 'Oradea', 'Fagaras', 'Rimnicu Vilcea'},\n",
        "    'Timisoara': {'Arad', 'Lugoj'},\n",
        "    'Lugoj': {'Timisoara', 'Mehadia'},\n",
        "    'Mehadia': {'Lugoj', 'Dobreta'},\n",
        "    'Dobreta': {'Mehadia', 'Craiova'},\n",
        "    'Craiova': {'Dobreta', 'Rimnicu Vilcea', 'Pitesti'},\n",
        "    'Rimnicu Vilcea': {'Sibiu', 'Craiova', 'Pitesti'},\n",
        "    'Fagaras': {'Sibiu', 'Bucharest'},\n",
        "    'Pitesti': {'Rimnicu Vilcea', 'Craiova', 'Bucharest'},\n",
        "    'Bucharest': {'Fagaras', 'Pitesti', 'Giurgiu', 'Urziceni'},\n",
        "    'Giurgiu': {'Bucharest'},\n",
        "    'Urziceni': {'Bucharest', 'Hirsova', 'Vaslui'},\n",
        "    'Hirsova': {'Urziceni', 'Eforie'},\n",
        "    'Eforie': {'Hirsova'},\n",
        "    'Vaslui': {'Urziceni', 'Iasi'},\n",
        "    'Iasi': {'Vaslui', 'Neamt'},\n",
        "    'Neamt': {'Iasi'}\n",
        "}"
      ],
      "metadata": {
        "colab": {
          "base_uri": "https://localhost:8080/"
        },
        "id": "DnSXlbE4TAci",
        "outputId": "5086e0dd-4593-47db-96c0-71e99768afda"
      },
      "execution_count": null,
      "outputs": [
        {
          "output_type": "stream",
          "name": "stdout",
          "text": [
            "time: 5.29 ms (started: 2023-02-02 23:04:11 +00:00)\n"
          ]
        }
      ]
    },
    {
      "cell_type": "code",
      "source": [
        "# BFS\n",
        "def bfs(graph, start, end):\n",
        "    queue = deque([[start]])\n",
        "    visited = set()\n",
        "    while queue:\n",
        "        path = queue.popleft()\n",
        "        node = path[-1]\n",
        "        if node not in visited:\n",
        "            neighbors = graph[node]\n",
        "            for neighbor in neighbors:\n",
        "                new_path = list(path)\n",
        "                new_path.append(neighbor)\n",
        "                queue.append(new_path)\n",
        "                if neighbor == end:\n",
        "                    return new_path\n",
        "            visited.add(node)\n",
        "            print(\"Visited node: \", node)\n",
        "    return None\n",
        "\n",
        "print(\"BFS: \", list(bfs(graph, \"Arad\", \"Bucharest\")))"
      ],
      "metadata": {
        "id": "PfNrfz-vN3J7",
        "colab": {
          "base_uri": "https://localhost:8080/"
        },
        "outputId": "92574612-3fea-44ed-9a12-ef9e52cfb4e3"
      },
      "execution_count": null,
      "outputs": [
        {
          "output_type": "stream",
          "name": "stdout",
          "text": [
            "Visited node:  Arad\n",
            "Visited node:  Zerind\n",
            "Visited node:  Sibiu\n",
            "Visited node:  Timisoara\n",
            "Visited node:  Oradea\n",
            "BFS:  ['Arad', 'Sibiu', 'Fagaras', 'Bucharest']\n",
            "time: 7.77 ms (started: 2023-02-02 22:50:45 +00:00)\n"
          ]
        }
      ]
    },
    {
      "cell_type": "code",
      "source": [
        "# DFS\n",
        "def dfs(graph, start, end, path=[]):\n",
        "    path = path + [start]\n",
        "    print(\"Visited node: \", start)\n",
        "    if start == end:\n",
        "        return path\n",
        "    if start not in graph:\n",
        "        return None\n",
        "    for node in graph[start]:\n",
        "        if node not in path:\n",
        "            new_path = dfs(graph, node, end, path)\n",
        "            if new_path:\n",
        "                return new_path\n",
        "    return None\n",
        "\n",
        "print(\"DFS: \", list(dfs(graph, \"Arad\", \"Bucharest\")))\n"
      ],
      "metadata": {
        "colab": {
          "base_uri": "https://localhost:8080/"
        },
        "id": "ksGPdM5ZOe4o",
        "outputId": "91e14a4d-ab22-4691-a206-f3e5594aea83"
      },
      "execution_count": null,
      "outputs": [
        {
          "output_type": "stream",
          "name": "stdout",
          "text": [
            "Visited node:  Arad\n",
            "Visited node:  Zerind\n",
            "Visited node:  Oradea\n",
            "Visited node:  Sibiu\n",
            "Visited node:  Fagaras\n",
            "Visited node:  Bucharest\n",
            "DFS:  ['Arad', 'Zerind', 'Oradea', 'Sibiu', 'Fagaras', 'Bucharest']\n",
            "time: 13.5 ms (started: 2023-02-02 22:50:46 +00:00)\n"
          ]
        }
      ]
    },
    {
      "cell_type": "code",
      "source": [
        "# Iterative Deepening\n",
        "def ida_star(graph, start, end):\n",
        "    def search(graph, start, end, limit, path=[]):\n",
        "        path = path + [start]\n",
        "        print(\"Visited node: \", start)\n",
        "        if start == end:\n",
        "            return path\n",
        "        if not 0 < limit:\n",
        "            return None\n",
        "        for node in graph[start]:\n",
        "            if node not in path:\n",
        "                result = search(graph, node, end, limit-1, path)\n",
        "                if result:\n",
        "                    return result\n",
        "        return None\n",
        "\n",
        "    limit = 1\n",
        "    while True:\n",
        "        result = search(graph, start, end, limit)\n",
        "        if result:\n",
        "            return result\n",
        "        limit += 1\n",
        "\n",
        "print(\"IDA: \", list(ida_star(graph, \"Arad\", \"Bucharest\")))"
      ],
      "metadata": {
        "colab": {
          "base_uri": "https://localhost:8080/"
        },
        "id": "VeJ0wLlnOiNY",
        "outputId": "e587f077-4d1f-4d2e-fa91-7102c4dc68fe"
      },
      "execution_count": null,
      "outputs": [
        {
          "output_type": "stream",
          "name": "stdout",
          "text": [
            "Visited node:  Arad\n",
            "Visited node:  Zerind\n",
            "Visited node:  Sibiu\n",
            "Visited node:  Timisoara\n",
            "Visited node:  Arad\n",
            "Visited node:  Zerind\n",
            "Visited node:  Oradea\n",
            "Visited node:  Sibiu\n",
            "Visited node:  Fagaras\n",
            "Visited node:  Rimnicu Vilcea\n",
            "Visited node:  Oradea\n",
            "Visited node:  Timisoara\n",
            "Visited node:  Lugoj\n",
            "Visited node:  Arad\n",
            "Visited node:  Zerind\n",
            "Visited node:  Oradea\n",
            "Visited node:  Sibiu\n",
            "Visited node:  Sibiu\n",
            "Visited node:  Fagaras\n",
            "Visited node:  Bucharest\n",
            "IDA:  ['Arad', 'Sibiu', 'Fagaras', 'Bucharest']\n",
            "time: 8.6 ms (started: 2023-02-02 22:50:52 +00:00)\n"
          ]
        }
      ]
    }
  ]
}