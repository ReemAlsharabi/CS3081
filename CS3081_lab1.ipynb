{
  "nbformat": 4,
  "nbformat_minor": 0,
  "metadata": {
    "colab": {
      "provenance": [],
      "include_colab_link": true
    },
    "kernelspec": {
      "name": "python3",
      "display_name": "Python 3"
    },
    "language_info": {
      "name": "python"
    }
  },
  "cells": [
    {
      "cell_type": "markdown",
      "metadata": {
        "id": "view-in-github",
        "colab_type": "text"
      },
      "source": [
        "<a href=\"https://colab.research.google.com/github/ReemAlsharabi/CS3081/blob/main/CS3081_lab1.ipynb\" target=\"_parent\"><img src=\"https://colab.research.google.com/assets/colab-badge.svg\" alt=\"Open In Colab\"/></a>"
      ]
    },
    {
      "cell_type": "code",
      "source": [
        "!pip install ipython-autotime\n",
        "%load_ext autotime"
      ],
      "metadata": {
        "id": "OwN1jUEQ3cBm",
        "outputId": "787844b8-cd4f-4001-cd83-f0fee3d194c9",
        "colab": {
          "base_uri": "https://localhost:8080/"
        }
      },
      "execution_count": 1,
      "outputs": [
        {
          "output_type": "stream",
          "name": "stdout",
          "text": [
            "Looking in indexes: https://pypi.org/simple, https://us-python.pkg.dev/colab-wheels/public/simple/\n",
            "Collecting ipython-autotime\n",
            "  Downloading ipython_autotime-0.3.1-py2.py3-none-any.whl (6.8 kB)\n",
            "Requirement already satisfied: ipython in /usr/local/lib/python3.8/dist-packages (from ipython-autotime) (7.9.0)\n",
            "Requirement already satisfied: prompt-toolkit<2.1.0,>=2.0.0 in /usr/local/lib/python3.8/dist-packages (from ipython->ipython-autotime) (2.0.10)\n",
            "Requirement already satisfied: pygments in /usr/local/lib/python3.8/dist-packages (from ipython->ipython-autotime) (2.6.1)\n",
            "Requirement already satisfied: setuptools>=18.5 in /usr/local/lib/python3.8/dist-packages (from ipython->ipython-autotime) (57.4.0)\n",
            "Collecting jedi>=0.10\n",
            "  Downloading jedi-0.18.2-py2.py3-none-any.whl (1.6 MB)\n",
            "\u001b[2K     \u001b[90m━━━━━━━━━━━━━━━━━━━━━━━━━━━━━━━━━━━━━━━━\u001b[0m \u001b[32m1.6/1.6 MB\u001b[0m \u001b[31m18.6 MB/s\u001b[0m eta \u001b[36m0:00:00\u001b[0m\n",
            "\u001b[?25hRequirement already satisfied: decorator in /usr/local/lib/python3.8/dist-packages (from ipython->ipython-autotime) (4.4.2)\n",
            "Requirement already satisfied: pexpect in /usr/local/lib/python3.8/dist-packages (from ipython->ipython-autotime) (4.8.0)\n",
            "Requirement already satisfied: traitlets>=4.2 in /usr/local/lib/python3.8/dist-packages (from ipython->ipython-autotime) (5.7.1)\n",
            "Requirement already satisfied: pickleshare in /usr/local/lib/python3.8/dist-packages (from ipython->ipython-autotime) (0.7.5)\n",
            "Requirement already satisfied: backcall in /usr/local/lib/python3.8/dist-packages (from ipython->ipython-autotime) (0.2.0)\n",
            "Requirement already satisfied: parso<0.9.0,>=0.8.0 in /usr/local/lib/python3.8/dist-packages (from jedi>=0.10->ipython->ipython-autotime) (0.8.3)\n",
            "Requirement already satisfied: wcwidth in /usr/local/lib/python3.8/dist-packages (from prompt-toolkit<2.1.0,>=2.0.0->ipython->ipython-autotime) (0.2.6)\n",
            "Requirement already satisfied: six>=1.9.0 in /usr/local/lib/python3.8/dist-packages (from prompt-toolkit<2.1.0,>=2.0.0->ipython->ipython-autotime) (1.15.0)\n",
            "Requirement already satisfied: ptyprocess>=0.5 in /usr/local/lib/python3.8/dist-packages (from pexpect->ipython->ipython-autotime) (0.7.0)\n",
            "Installing collected packages: jedi, ipython-autotime\n",
            "Successfully installed ipython-autotime-0.3.1 jedi-0.18.2\n",
            "time: 453 µs (started: 2023-02-02 22:21:35 +00:00)\n"
          ]
        }
      ]
    },
    {
      "cell_type": "code",
      "execution_count": 6,
      "metadata": {
        "id": "AHsQOoaVMNV7",
        "colab": {
          "base_uri": "https://localhost:8080/"
        },
        "outputId": "b9b2a7c3-a06b-4737-95f7-5ec6b9092eba"
      },
      "outputs": [
        {
          "output_type": "stream",
          "name": "stdout",
          "text": [
            "time: 3.84 ms (started: 2023-02-02 22:32:28 +00:00)\n"
          ]
        }
      ],
      "source": [
        "from queue import Queue, deque"
      ]
    },
    {
      "cell_type": "code",
      "source": [
        "graph = {\n",
        "    'Arad': {'Sibiu', 'Timisoara', 'Zerind'},\n",
        "    'Zerind': {'Arad', 'Oradea'},\n",
        "    'Oradea': {'Zerind', 'Sibiu'},\n",
        "    'Sibiu': {'Arad', 'Oradea', 'Fagaras', 'Rimnicu Vilcea'},\n",
        "    'Timisoara': {'Arad', 'Lugoj'},\n",
        "    'Lugoj': {'Timisoara', 'Mehadia'},\n",
        "    'Mehadia': {'Lugoj', 'Dobreta'},\n",
        "    'Dobreta': {'Mehadia', 'Craiova'},\n",
        "    'Craiova': {'Dobreta', 'Rimnicu Vilcea', 'Pitesti'},\n",
        "    'Rimnicu Vilcea': {'Sibiu', 'Craiova', 'Pitesti'},\n",
        "    'Fagaras': {'Sibiu', 'Bucharest'},\n",
        "    'Pitesti': {'Rimnicu Vilcea', 'Craiova', 'Bucharest'},\n",
        "    'Bucharest': {'Fagaras', 'Pitesti', 'Giurgiu', 'Urziceni'},\n",
        "    'Giurgiu': {'Bucharest'},\n",
        "    'Urziceni': {'Bucharest', 'Hirsova', 'Vaslui'},\n",
        "    'Hirsova': {'Urziceni', 'Eforie'},\n",
        "    'Eforie': {'Hirsova'},\n",
        "    'Vaslui': {'Urziceni', 'Iasi'},\n",
        "    'Iasi': {'Vaslui', 'Neamt'},\n",
        "    'Neamt': {'Iasi'}\n",
        "}"
      ],
      "metadata": {
        "colab": {
          "base_uri": "https://localhost:8080/"
        },
        "id": "DnSXlbE4TAci",
        "outputId": "1d1a208c-5997-4369-ff71-ec8a898821de"
      },
      "execution_count": 26,
      "outputs": [
        {
          "output_type": "stream",
          "name": "stdout",
          "text": [
            "time: 1.56 ms (started: 2023-02-02 22:42:57 +00:00)\n"
          ]
        }
      ]
    },
    {
      "cell_type": "code",
      "source": [
        "# BFS\n",
        "def bfs(graph, start, end):\n",
        "    queue = deque([[start]])\n",
        "    visited = set()\n",
        "    while queue:\n",
        "        path = queue.popleft()\n",
        "        node = path[-1]\n",
        "        if node not in visited:\n",
        "            neighbors = graph[node]\n",
        "            for neighbor in neighbors:\n",
        "                new_path = list(path)\n",
        "                new_path.append(neighbor)\n",
        "                queue.append(new_path)\n",
        "                if neighbor == end:\n",
        "                    return new_path\n",
        "            visited.add(node)\n",
        "            print(\"Visited node: \", node)\n",
        "    return None\n",
        "\n",
        "print(\"BFS: \", list(bfs(graph, \"Arad\", \"Bucharest\")))"
      ],
      "metadata": {
        "id": "PfNrfz-vN3J7",
        "colab": {
          "base_uri": "https://localhost:8080/"
        },
        "outputId": "98c8b6b5-4e22-4a05-a9e1-12c4da3702c2"
      },
      "execution_count": 22,
      "outputs": [
        {
          "output_type": "stream",
          "name": "stdout",
          "text": [
            "Visited node:  Arad\n",
            "Visited node:  Zerind\n",
            "Visited node:  Sibiu\n",
            "Visited node:  Timisoara\n",
            "Visited node:  Oradea\n",
            "BFS:  ['Arad', 'Sibiu', 'Fagaras', 'Bucharest']\n",
            "time: 7.34 ms (started: 2023-02-02 22:40:18 +00:00)\n"
          ]
        }
      ]
    },
    {
      "cell_type": "code",
      "source": [
        "# DFS\n",
        "def dfs(graph, start, end, path=[]):\n",
        "    path = path + [start]\n",
        "    print(\"Visited node: \", start)\n",
        "    if start == end:\n",
        "        return path\n",
        "    if start not in graph:\n",
        "        return None\n",
        "    for node in graph[start]:\n",
        "        if node not in path:\n",
        "            new_path = dfs(graph, node, end, path)\n",
        "            if new_path:\n",
        "                return new_path\n",
        "    return None\n",
        "\n",
        "print(\"DFS: \", list(dfs(graph, \"Arad\", \"Bucharest\")))\n"
      ],
      "metadata": {
        "colab": {
          "base_uri": "https://localhost:8080/"
        },
        "id": "ksGPdM5ZOe4o",
        "outputId": "45d2df13-99a0-46bc-9987-0f7fa38d7d7d"
      },
      "execution_count": 28,
      "outputs": [
        {
          "output_type": "stream",
          "name": "stdout",
          "text": [
            "Visited node:  Arad\n",
            "Visited node:  Zerind\n",
            "Visited node:  Oradea\n",
            "Visited node:  Sibiu\n",
            "Visited node:  Fagaras\n",
            "Visited node:  Bucharest\n",
            "DFS:  ['Arad', 'Zerind', 'Oradea', 'Sibiu', 'Fagaras', 'Bucharest']\n",
            "time: 12.9 ms (started: 2023-02-02 22:43:52 +00:00)\n"
          ]
        }
      ]
    },
    {
      "cell_type": "code",
      "source": [
        "# Iterative Deepening\n",
        "def ida_star(graph, start, end):\n",
        "    def search(graph, start, end, limit, path=[]):\n",
        "        path = path + [start]\n",
        "        print(\"Visited node: \", start)\n",
        "        if start == end:\n",
        "            return path\n",
        "        if not 0 < limit:\n",
        "            return None\n",
        "        for node in graph[start]:\n",
        "            if node not in path:\n",
        "                result = search(graph, node, end, limit-1, path)\n",
        "                if result:\n",
        "                    return result\n",
        "        return None\n",
        "\n",
        "    limit = 1\n",
        "    while True:\n",
        "        result = search(graph, start, end, limit)\n",
        "        if result:\n",
        "            return result\n",
        "        limit += 1\n",
        "\n",
        "print(\"IDA: \", list(ida_star(graph, \"Arad\", \"Bucharest\")))"
      ],
      "metadata": {
        "colab": {
          "base_uri": "https://localhost:8080/"
        },
        "id": "VeJ0wLlnOiNY",
        "outputId": "f9dd1bc6-c934-4ef6-cf65-572126014f01"
      },
      "execution_count": 31,
      "outputs": [
        {
          "output_type": "stream",
          "name": "stdout",
          "text": [
            "Visited node:  Arad\n",
            "Visited node:  Zerind\n",
            "Visited node:  Sibiu\n",
            "Visited node:  Timisoara\n",
            "Visited node:  Arad\n",
            "Visited node:  Zerind\n",
            "Visited node:  Oradea\n",
            "Visited node:  Sibiu\n",
            "Visited node:  Fagaras\n",
            "Visited node:  Rimnicu Vilcea\n",
            "Visited node:  Oradea\n",
            "Visited node:  Timisoara\n",
            "Visited node:  Lugoj\n",
            "Visited node:  Arad\n",
            "Visited node:  Zerind\n",
            "Visited node:  Oradea\n",
            "Visited node:  Sibiu\n",
            "Visited node:  Sibiu\n",
            "Visited node:  Fagaras\n",
            "Visited node:  Bucharest\n",
            "IDA:  ['Arad', 'Sibiu', 'Fagaras', 'Bucharest']\n",
            "time: 12.8 ms (started: 2023-02-02 22:44:45 +00:00)\n"
          ]
        }
      ]
    }
  ]
}