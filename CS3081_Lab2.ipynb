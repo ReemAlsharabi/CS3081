{
  "nbformat": 4,
  "nbformat_minor": 0,
  "metadata": {
    "colab": {
      "provenance": [],
      "authorship_tag": "ABX9TyPf8DKOgTOSQHtmJ33qx4TL",
      "include_colab_link": true
    },
    "kernelspec": {
      "name": "python3",
      "display_name": "Python 3"
    },
    "language_info": {
      "name": "python"
    }
  },
  "cells": [
    {
      "cell_type": "markdown",
      "metadata": {
        "id": "view-in-github",
        "colab_type": "text"
      },
      "source": [
        "<a href=\"https://colab.research.google.com/github/ReemAlsharabi/CS3081/blob/main/CS3081_Lab2.ipynb\" target=\"_parent\"><img src=\"https://colab.research.google.com/assets/colab-badge.svg\" alt=\"Open In Colab\"/></a>"
      ]
    },
    {
      "cell_type": "code",
      "source": [
        "\"\"\"\n",
        "In this lab we will continue to implement the Romanian problem using uninformed search algorithms, we will continue on Lab 1 to add Nodes for the cities in Romania and edges (arcs) for connected cities. Then search for a path from Arad to Bucharist\n",
        "You can complete your own code or Use the attached code, to complete the lab\n",
        "- add more children based on the Romanian graph\n",
        "\n",
        "- apply the DFS and BFS using the TreeNode DS\n",
        "\"\"\""
      ],
      "metadata": {
        "id": "o1uGmHciVNzk"
      },
      "execution_count": null,
      "outputs": []
    },
    {
      "cell_type": "code",
      "source": [
        "%load_ext autotime\n",
        "from queue import Queue, deque"
      ],
      "metadata": {
        "colab": {
          "base_uri": "https://localhost:8080/"
        },
        "id": "mhcI-9azVQRu",
        "outputId": "8b6ed2d8-72ee-41a1-ec0f-8cb453393704"
      },
      "execution_count": null,
      "outputs": [
        {
          "output_type": "stream",
          "name": "stdout",
          "text": [
            "The autotime extension is already loaded. To reload it, use:\n",
            "  %reload_ext autotime\n",
            "time: 3.51 ms (started: 2023-02-08 09:22:11 +00:00)\n"
          ]
        }
      ]
    },
    {
      "cell_type": "code",
      "source": [
        "graph = {\n",
        "    'Arad': {'Sibiu', 'Timisoara', 'Zerind'},\n",
        "    'Zerind': {'Arad', 'Oradea'},\n",
        "    'Oradea': {'Zerind', 'Sibiu'},\n",
        "    'Sibiu': {'Arad', 'Oradea', 'Fagaras', 'Rimnicu Vilcea'},\n",
        "    'Timisoara': {'Arad', 'Lugoj'},\n",
        "    'Lugoj': {'Timisoara', 'Mehadia'},\n",
        "    'Mehadia': {'Lugoj', 'Dobreta'},\n",
        "    'Dobreta': {'Mehadia', 'Craiova'},\n",
        "    'Craiova': {'Dobreta', 'Rimnicu Vilcea', 'Pitesti'},\n",
        "    'Rimnicu Vilcea': {'Sibiu', 'Craiova', 'Pitesti'},\n",
        "    'Fagaras': {'Sibiu', 'Bucharest'},\n",
        "    'Pitesti': {'Rimnicu Vilcea', 'Craiova', 'Bucharest'},\n",
        "    'Bucharest': {'Fagaras', 'Pitesti', 'Giurgiu', 'Urziceni'},\n",
        "    'Giurgiu': {'Bucharest'},\n",
        "    'Urziceni': {'Bucharest', 'Hirsova', 'Vaslui'},\n",
        "    'Hirsova': {'Urziceni', 'Eforie'},\n",
        "    'Eforie': {'Hirsova'},\n",
        "    'Vaslui': {'Urziceni', 'Iasi'},\n",
        "    'Iasi': {'Vaslui', 'Neamt'},\n",
        "    'Neamt': {'Iasi'}\n",
        "}"
      ],
      "metadata": {
        "colab": {
          "base_uri": "https://localhost:8080/"
        },
        "id": "FFEuGeFAV7Hq",
        "outputId": "a2c4f32b-ea8e-4ed6-c079-344f4485f041"
      },
      "execution_count": null,
      "outputs": [
        {
          "output_type": "stream",
          "name": "stdout",
          "text": [
            "time: 3.57 ms (started: 2023-02-08 09:25:02 +00:00)\n"
          ]
        }
      ]
    },
    {
      "cell_type": "code",
      "source": [
        "class TreeNode:\n",
        "    def __init__(self, name, parent=None):\n",
        "        self.name = name\n",
        "        self.parent = parent\n",
        "        self.children = []\n",
        "        \n",
        "    def add_child(self, child_node):\n",
        "        self.children.append(child_node)\n",
        "        \n",
        "    def __repr__(self):\n",
        "        return self.name\n",
        "\n",
        "nodes = {}\n",
        "for node_name, neighbors in graph.items():\n",
        "    if node_name not in nodes:\n",
        "        nodes[node_name] = TreeNode(node_name)\n",
        "    node = nodes[node_name]\n",
        "    \n",
        "    for neighbor in neighbors:\n",
        "        if neighbor not in nodes:\n",
        "            nodes[neighbor] = TreeNode(neighbor, parent=node)\n",
        "        else:\n",
        "            nodes[neighbor].parent = node\n",
        "        node.add_child(nodes[neighbor])\n"
      ],
      "metadata": {
        "colab": {
          "base_uri": "https://localhost:8080/"
        },
        "id": "pBwqhZ4BUehe",
        "outputId": "25248d2b-b58c-478d-ee2c-9eec739e161d"
      },
      "execution_count": null,
      "outputs": [
        {
          "output_type": "stream",
          "name": "stdout",
          "text": [
            "time: 2.51 ms (started: 2023-02-08 09:26:23 +00:00)\n"
          ]
        }
      ]
    },
    {
      "cell_type": "code",
      "source": [
        "# BFS\n",
        "def bfs(graph, start, end):\n",
        "    queue = deque([[start]])\n",
        "    visited = set()\n",
        "    while queue:\n",
        "        path = queue.popleft()\n",
        "        node = path[-1]\n",
        "        if node not in visited:\n",
        "            neighbors = graph[node]\n",
        "            for neighbor in neighbors:\n",
        "                new_path = list(path)\n",
        "                new_path.append(neighbor)\n",
        "                queue.append(new_path)\n",
        "                if neighbor == end:\n",
        "                    return new_path\n",
        "            visited.add(node)\n",
        "            print(\"Visited node: \", node)\n",
        "    return None\n",
        "\n",
        "print(\"BFS: \", list(bfs(graph, \"Arad\", \"Bucharest\")))"
      ],
      "metadata": {
        "colab": {
          "base_uri": "https://localhost:8080/"
        },
        "id": "nSQah1mQTq0b",
        "outputId": "cdef1a3a-c13c-47c8-dff6-b57f432c0e4b"
      },
      "execution_count": null,
      "outputs": [
        {
          "output_type": "stream",
          "name": "stdout",
          "text": [
            "Visited node:  Arad\n",
            "Visited node:  Zerind\n",
            "Visited node:  Sibiu\n",
            "Visited node:  Timisoara\n",
            "Visited node:  Oradea\n",
            "Visited node:  Rimnicu Vilcea\n",
            "BFS:  ['Arad', 'Sibiu', 'Fagaras', 'Bucharest']\n",
            "time: 2.25 ms (started: 2023-02-08 09:20:03 +00:00)\n"
          ]
        }
      ]
    },
    {
      "cell_type": "code",
      "source": [
        "# DFS\n",
        "def dfs(graph, start, end, path=[]):\n",
        "    path = path + [start]\n",
        "    print(\"Visited node: \", start)\n",
        "    if start == end:\n",
        "        return path\n",
        "    if start not in graph:\n",
        "        return None\n",
        "    for node in graph[start]:\n",
        "        if node not in path:\n",
        "            new_path = dfs(graph, node, end, path)\n",
        "            if new_path:\n",
        "                return new_path\n",
        "    return None\n",
        "\n",
        "print(\"DFS: \", list(dfs(graph, \"Arad\", \"Bucharest\")))\n"
      ],
      "metadata": {
        "colab": {
          "base_uri": "https://localhost:8080/"
        },
        "id": "LUhROUlMU1V8",
        "outputId": "b5a34ddd-106b-4846-c59e-3064dd55b0e3"
      },
      "execution_count": null,
      "outputs": [
        {
          "output_type": "stream",
          "name": "stdout",
          "text": [
            "Visited node:  Arad\n",
            "Visited node:  Zerind\n",
            "Visited node:  Oradea\n",
            "Visited node:  Sibiu\n",
            "Visited node:  Rimnicu Vilcea\n",
            "Visited node:  Pitesti\n",
            "Visited node:  Bucharest\n",
            "DFS:  ['Arad', 'Zerind', 'Oradea', 'Sibiu', 'Rimnicu Vilcea', 'Pitesti', 'Bucharest']\n",
            "time: 9.32 ms (started: 2023-02-08 09:20:16 +00:00)\n"
          ]
        }
      ]
    },
    {
      "cell_type": "code",
      "source": [
        "# Iterative Deepening\n",
        "def ida_star(graph, start, end):\n",
        "    def search(graph, start, end, limit, path=[]):\n",
        "        path = path + [start]\n",
        "        print(\"Visited node: \", start)\n",
        "        if start == end:\n",
        "            return path\n",
        "        if not 0 < limit:\n",
        "            return None\n",
        "        for node in graph[start]:\n",
        "            if node not in path:\n",
        "                result = search(graph, node, end, limit-1, path)\n",
        "                if result:\n",
        "                    return result\n",
        "        return None\n",
        "\n",
        "    limit = 1\n",
        "    while True:\n",
        "        result = search(graph, start, end, limit)\n",
        "        if result:\n",
        "            return result\n",
        "        limit += 1\n",
        "\n",
        "print(\"IDA: \", list(ida_star(graph, \"Arad\", \"Bucharest\")))"
      ],
      "metadata": {
        "colab": {
          "base_uri": "https://localhost:8080/"
        },
        "id": "SIIyx_azU4wq",
        "outputId": "db03e289-ab31-4f07-e1cc-fefba9d27e78"
      },
      "execution_count": null,
      "outputs": [
        {
          "output_type": "stream",
          "name": "stdout",
          "text": [
            "Visited node:  Arad\n",
            "Visited node:  Zerind\n",
            "Visited node:  Sibiu\n",
            "Visited node:  Timisoara\n",
            "Visited node:  Arad\n",
            "Visited node:  Zerind\n",
            "Visited node:  Oradea\n",
            "Visited node:  Sibiu\n",
            "Visited node:  Rimnicu Vilcea\n",
            "Visited node:  Fagaras\n",
            "Visited node:  Oradea\n",
            "Visited node:  Timisoara\n",
            "Visited node:  Lugoj\n",
            "Visited node:  Arad\n",
            "Visited node:  Zerind\n",
            "Visited node:  Oradea\n",
            "Visited node:  Sibiu\n",
            "Visited node:  Sibiu\n",
            "Visited node:  Rimnicu Vilcea\n",
            "Visited node:  Pitesti\n",
            "Visited node:  Craiova\n",
            "Visited node:  Fagaras\n",
            "Visited node:  Bucharest\n",
            "IDA:  ['Arad', 'Sibiu', 'Fagaras', 'Bucharest']\n",
            "time: 4.03 ms (started: 2023-02-08 09:27:31 +00:00)\n"
          ]
        }
      ]
    }
  ]
}